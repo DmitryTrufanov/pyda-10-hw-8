{
 "cells": [
  {
   "cell_type": "markdown",
   "metadata": {},
   "source": [
    "# Что сегодня сделаем\n",
    "Библиотеку для получения курсов валют в 2 строки"
   ]
  },
  {
   "cell_type": "code",
   "execution_count": null,
   "metadata": {},
   "outputs": [],
   "source": [
    "from libs.exchange import Rate"
   ]
  },
  {
   "cell_type": "code",
   "execution_count": null,
   "metadata": {},
   "outputs": [],
   "source": [
    "Rate().usd()"
   ]
  },
  {
   "cell_type": "code",
   "execution_count": null,
   "metadata": {
    "scrolled": true
   },
   "outputs": [],
   "source": [
    "Rate('full').AZN()"
   ]
  },
  {
   "cell_type": "markdown",
   "metadata": {},
   "source": [
    "### Задача\n",
    "Дана строка со значениями, которые разделены запятыми:"
   ]
  },
  {
   "cell_type": "code",
   "execution_count": null,
   "metadata": {},
   "outputs": [],
   "source": [
    "line = '2019-07-01,organic,4293'"
   ]
  },
  {
   "cell_type": "markdown",
   "metadata": {},
   "source": [
    "Напишите функцию column_count, которая возвращает число столбцов в такой строке"
   ]
  },
  {
   "cell_type": "code",
   "execution_count": null,
   "metadata": {},
   "outputs": [],
   "source": [
    "len('2019-07-01,organic,4293'.split(','))"
   ]
  },
  {
   "cell_type": "code",
   "execution_count": null,
   "metadata": {},
   "outputs": [],
   "source": [
    "def column_count(line, count_empty_line=True, sep=','):\n",
    "    if count_empty_line:\n",
    "        return len(line.split(sep))\n",
    "    else:\n",
    "        if line:\n",
    "            return len(line.split(sep))\n",
    "        else:\n",
    "            return 0"
   ]
  },
  {
   "cell_type": "code",
   "execution_count": null,
   "metadata": {},
   "outputs": [],
   "source": [
    "column_count(line)"
   ]
  },
  {
   "cell_type": "code",
   "execution_count": null,
   "metadata": {},
   "outputs": [],
   "source": [
    "column_count('2019-07-01')"
   ]
  },
  {
   "cell_type": "code",
   "execution_count": null,
   "metadata": {},
   "outputs": [],
   "source": [
    "column_count('', count_empty_line=True)"
   ]
  },
  {
   "cell_type": "code",
   "execution_count": null,
   "metadata": {},
   "outputs": [],
   "source": [
    "column_count('', count_empty_line=False)"
   ]
  },
  {
   "cell_type": "markdown",
   "metadata": {},
   "source": [
    "# Классы\n",
    "Пример использования переменной в разных методах"
   ]
  },
  {
   "cell_type": "code",
   "execution_count": null,
   "metadata": {},
   "outputs": [],
   "source": [
    "class AnyName:\n",
    "    def method_1(my_123):\n",
    "        my_123.currency = 'usd'\n",
    "    \n",
    "    def method_2(my_123):\n",
    "        print(my_123.currency)\n",
    "    \n",
    "    @staticmethod\n",
    "    def method():\n",
    "        print('Все хорошо')"
   ]
  },
  {
   "cell_type": "code",
   "execution_count": null,
   "metadata": {},
   "outputs": [],
   "source": [
    "a = AnyName()"
   ]
  },
  {
   "cell_type": "code",
   "execution_count": null,
   "metadata": {},
   "outputs": [],
   "source": [
    "a.method_1()"
   ]
  },
  {
   "cell_type": "code",
   "execution_count": null,
   "metadata": {},
   "outputs": [],
   "source": [
    "a.currency"
   ]
  },
  {
   "cell_type": "code",
   "execution_count": null,
   "metadata": {},
   "outputs": [],
   "source": [
    "a.currency"
   ]
  },
  {
   "cell_type": "code",
   "execution_count": null,
   "metadata": {},
   "outputs": [],
   "source": [
    "a.method_2()"
   ]
  },
  {
   "cell_type": "code",
   "execution_count": null,
   "metadata": {},
   "outputs": [],
   "source": [
    "b = AnyName()"
   ]
  },
  {
   "cell_type": "code",
   "execution_count": null,
   "metadata": {},
   "outputs": [],
   "source": [
    "b.method_1()"
   ]
  },
  {
   "cell_type": "code",
   "execution_count": null,
   "metadata": {},
   "outputs": [],
   "source": [
    "b.currency = 'eur'"
   ]
  },
  {
   "cell_type": "code",
   "execution_count": null,
   "metadata": {},
   "outputs": [],
   "source": [
    "b.currency"
   ]
  },
  {
   "cell_type": "code",
   "execution_count": null,
   "metadata": {},
   "outputs": [],
   "source": [
    "b.method_2()"
   ]
  },
  {
   "cell_type": "markdown",
   "metadata": {},
   "source": [
    "### Метод __init__"
   ]
  },
  {
   "cell_type": "code",
   "execution_count": null,
   "metadata": {},
   "outputs": [],
   "source": [
    "# метод __init__ выполняется при вызове класса\n",
    "\n",
    "class Rate:\n",
    "    def __init__(self):\n",
    "        self.format = 'value'\n",
    "        print(self.format)"
   ]
  },
  {
   "cell_type": "code",
   "execution_count": null,
   "metadata": {},
   "outputs": [],
   "source": [
    "Rate().calculation()"
   ]
  },
  {
   "cell_type": "code",
   "execution_count": null,
   "metadata": {
    "scrolled": true
   },
   "outputs": [],
   "source": [
    "r = Rate()"
   ]
  },
  {
   "cell_type": "code",
   "execution_count": null,
   "metadata": {},
   "outputs": [],
   "source": [
    "r.format"
   ]
  },
  {
   "cell_type": "markdown",
   "metadata": {},
   "source": [
    "### Класс для курсов валют"
   ]
  },
  {
   "cell_type": "code",
   "execution_count": null,
   "metadata": {},
   "outputs": [],
   "source": [
    "class Rate:\n",
    "    def __init__(self):\n",
    "        self.format = 'value'\n",
    "    \n",
    "    def show_current_format(self):\n",
    "        return self.format"
   ]
  },
  {
   "cell_type": "code",
   "execution_count": null,
   "metadata": {},
   "outputs": [],
   "source": [
    "r = Rate()"
   ]
  },
  {
   "cell_type": "code",
   "execution_count": null,
   "metadata": {},
   "outputs": [],
   "source": [
    "r.format"
   ]
  },
  {
   "cell_type": "code",
   "execution_count": null,
   "metadata": {},
   "outputs": [],
   "source": [
    "r.show_current_format()"
   ]
  },
  {
   "cell_type": "markdown",
   "metadata": {},
   "source": [
    "Пример инициализации со значением переменной"
   ]
  },
  {
   "cell_type": "code",
   "execution_count": null,
   "metadata": {},
   "outputs": [],
   "source": [
    "class Rate:\n",
    "    def __init__(self, format_):\n",
    "        self.format = format_\n",
    "    \n",
    "    def show_current_format(self):\n",
    "        return self.format"
   ]
  },
  {
   "cell_type": "code",
   "execution_count": null,
   "metadata": {},
   "outputs": [],
   "source": [
    "r = Rate(format_='value')"
   ]
  },
  {
   "cell_type": "code",
   "execution_count": null,
   "metadata": {},
   "outputs": [],
   "source": [
    "r = Rate('value')"
   ]
  },
  {
   "cell_type": "code",
   "execution_count": null,
   "metadata": {},
   "outputs": [],
   "source": [
    "r.format"
   ]
  },
  {
   "cell_type": "code",
   "execution_count": null,
   "metadata": {},
   "outputs": [],
   "source": [
    "r.show_current_format()"
   ]
  },
  {
   "cell_type": "markdown",
   "metadata": {},
   "source": [
    "Или сразу со значением по умолчанию"
   ]
  },
  {
   "cell_type": "code",
   "execution_count": null,
   "metadata": {},
   "outputs": [],
   "source": [
    "class Rate:\n",
    "    def __init__(self, format_='value'):\n",
    "        self.format = format_\n",
    "    \n",
    "    def show_current_format(self):\n",
    "        return self.format"
   ]
  },
  {
   "cell_type": "code",
   "execution_count": null,
   "metadata": {},
   "outputs": [],
   "source": [
    "r = Rate()\n",
    "r.show_current_format()"
   ]
  },
  {
   "cell_type": "code",
   "execution_count": null,
   "metadata": {},
   "outputs": [],
   "source": [
    "r_full = Rate(format_='full')\n",
    "r_full.show_current_format()"
   ]
  },
  {
   "cell_type": "code",
   "execution_count": null,
   "metadata": {},
   "outputs": [],
   "source": [
    "# значения переменных класса можно менять\n",
    "\n",
    "r.format = 'full_123'\n",
    "r.show_current_format()"
   ]
  },
  {
   "cell_type": "markdown",
   "metadata": {},
   "source": [
    "### Упражнение\n",
    "Создайте класс сотрудника Employee. При инициализации класса задается имя сотрудника name и его текущая зарплата salary. Напишите следующие методы:\n",
    "1. Метод up, который увеличивает зарплату сотрудника на 100\n",
    "2. Метод print, который выводит на экран текущую зарплату сотрудника в формате \"Сотрудник Иван, зарплата 100\""
   ]
  },
  {
   "cell_type": "code",
   "execution_count": null,
   "metadata": {},
   "outputs": [],
   "source": [
    "class Employee: \n",
    "    def __init__(self, name_='value1', salary_=0): \n",
    "        self.name = name_ \n",
    "        self.salary = salary_ \n",
    "    \n",
    "    def up(self): \n",
    "        self.salary += 100 \n",
    "        \n",
    "    def print(self): \n",
    "        print(f'Сотрудник {self.name}, зарплата {self.salary}')"
   ]
  },
  {
   "cell_type": "code",
   "execution_count": null,
   "metadata": {},
   "outputs": [],
   "source": [
    "ivan = Employee(name_='Иван', salary_=50)\n",
    "elena = Employee(name_='Елена', salary_=70)"
   ]
  },
  {
   "cell_type": "code",
   "execution_count": null,
   "metadata": {},
   "outputs": [],
   "source": [
    "ivan.name, ivan.salary"
   ]
  },
  {
   "cell_type": "code",
   "execution_count": null,
   "metadata": {},
   "outputs": [],
   "source": [
    "ivan.up()"
   ]
  },
  {
   "cell_type": "code",
   "execution_count": null,
   "metadata": {},
   "outputs": [],
   "source": [
    "elena.name, elena.salary"
   ]
  },
  {
   "cell_type": "code",
   "execution_count": null,
   "metadata": {},
   "outputs": [],
   "source": [
    "elena.up()"
   ]
  },
  {
   "cell_type": "code",
   "execution_count": null,
   "metadata": {},
   "outputs": [],
   "source": [
    "class Employee: \n",
    "    def __init__(self, name_, salary_): \n",
    "        self.name = name_ \n",
    "        self.salary = salary_ \n",
    "        \n",
    "    def up(self): \n",
    "        return self.salary+100 \n",
    "    \n",
    "    def prints(self): \n",
    "        print(\"Сотрудник \",self.name,\", зарплата \",self.salary) \n",
    "        \n",
    "e = Employee('Иван', 1000) \n",
    "e.prints()\n",
    "            "
   ]
  },
  {
   "cell_type": "code",
   "execution_count": null,
   "metadata": {},
   "outputs": [],
   "source": []
  },
  {
   "cell_type": "code",
   "execution_count": null,
   "metadata": {},
   "outputs": [],
   "source": []
  },
  {
   "cell_type": "markdown",
   "metadata": {},
   "source": [
    "### Полная версия класса"
   ]
  },
  {
   "cell_type": "code",
   "execution_count": null,
   "metadata": {},
   "outputs": [],
   "source": [
    "import requests"
   ]
  },
  {
   "cell_type": "code",
   "execution_count": null,
   "metadata": {},
   "outputs": [],
   "source": [
    "class Rate:\n",
    "    \"\"\"\n",
    "    \n",
    "    \"\"\"\n",
    "    def __init__(self, format_='value', diff=True):\n",
    "        self.format = format_\n",
    "        self.diff = diff                                                                # Задание 2\n",
    "    \n",
    "    def exchange_rates(self):\n",
    "        \"\"\"\n",
    "        Возвращает ответ сервиса с информацией о валютах в виде:\n",
    "        \n",
    "        {\n",
    "            'AMD': {\n",
    "                'CharCode': 'AMD',\n",
    "                'ID': 'R01060',\n",
    "                'Name': 'Армянских драмов',\n",
    "                'Nominal': 100,\n",
    "                'NumCode': '051',\n",
    "                'Previous': 14.103,\n",
    "                'Value': 14.0879\n",
    "                },\n",
    "            ...\n",
    "        }\n",
    "        \"\"\"\n",
    "        self.r = requests.get('https://www.cbr-xml-daily.ru/daily_json.js')\n",
    "        return self.r.json()['Valute']\n",
    "    \n",
    "    def max_valute(self):\n",
    "        valute_lines = self.exchange_rates()\n",
    "        for info in valute_lines.values():\n",
    "            print(['Name'], ['Value'])\n",
    "    \n",
    "        \n",
    "    \n",
    "    \n",
    "    def make_format(self, currency):\n",
    "        \"\"\"\n",
    "        Возвращает информацию о валюте currency в двух вариантах:\n",
    "        - полная информация о валюте при self.format = 'full':\n",
    "        Rate('full').make_format('EUR')\n",
    "        {\n",
    "            'CharCode': 'EUR',\n",
    "            'ID': 'R01239',\n",
    "            'Name': 'Евро',\n",
    "            'Nominal': 1,\n",
    "            'NumCode': '978',\n",
    "            'Previous': 79.6765,\n",
    "            'Value': 79.4966\n",
    "        }\n",
    "        \n",
    "        Rate('value').make_format('EUR')\n",
    "        79.4966\n",
    "        \"\"\"\n",
    "        response = self.exchange_rates()\n",
    "        \n",
    "        if currency in response:\n",
    "            if self.format == 'full':\n",
    "                return response[currency]\n",
    "            \n",
    "            if self.format == 'value' and self.diff == False:                             # Задание 2\n",
    "                return response[currency]['Value']                                        # Задание 2\n",
    "            if self.format == 'value' and self.diff == True:                              # Задание 2\n",
    "                return response[currency]['Value'] / response[currency]['Previous']       # Задание 2\n",
    "        \n",
    "        return 'Error'\n",
    "    \n",
    "    def eur(self):\n",
    "        \"\"\"Возвращает курс евро на сегодня в формате self.format\"\"\"\n",
    "        return self.make_format('EUR')\n",
    "    \n",
    "    def usd(self):\n",
    "        \"\"\"Возвращает курс доллара на сегодня в формате self.format\"\"\"\n",
    "        return self.make_format('USD')\n",
    "    \n",
    "    def brl(self):\n",
    "        \"\"\"Возвращает курс бразильского реала на сегодня в формате self.format\"\"\"\n",
    "        return self.make_format('BRL')\n",
    "    "
   ]
  },
  {
   "cell_type": "code",
   "execution_count": null,
   "metadata": {},
   "outputs": [],
   "source": [
    "Valute = {\n",
    "        \"AUD\": {\n",
    "            \"ID\": \"R01010\",\n",
    "            \"NumCode\": \"036\",\n",
    "            \"CharCode\": \"AUD\",\n",
    "            \"Nominal\": 1,\n",
    "            \"Name\": \"Австралийский доллар\",\n",
    "            \"Value\": 47.9706,\n",
    "            \"Previous\": 48.0191\n",
    "        },\n",
    "        \"AZN\": {\n",
    "            \"ID\": \"R01020A\",\n",
    "            \"NumCode\": \"944\",\n",
    "            \"CharCode\": \"AZN\",\n",
    "            \"Nominal\": 1,\n",
    "            \"Name\": \"Азербайджанский манат\",\n",
    "            \"Value\": 40.7438,\n",
    "            \"Previous\": 40.447\n",
    "        },\n",
    "        \"GBP\": {\n",
    "            \"ID\": \"R01035\",\n",
    "            \"NumCode\": \"826\",\n",
    "            \"CharCode\": \"GBP\",\n",
    "            \"Nominal\": 1,\n",
    "            \"Name\": \"Фунт стерлингов Соединенного королевства\",\n",
    "            \"Value\": 87.6673,\n",
    "            \"Previous\": 87.6462\n",
    "        },\n",
    "        \"AMD\": {\n",
    "            \"ID\": \"R01060\",\n",
    "            \"NumCode\": \"051\",\n",
    "            \"CharCode\": \"AMD\",\n",
    "            \"Nominal\": 100,\n",
    "            \"Name\": \"Армянских драмов\",\n",
    "            \"Value\": 14.305,\n",
    "            \"Previous\": 14.2037\n",
    "        },\n",
    "        \"BYN\": {\n",
    "            \"ID\": \"R01090B\",\n",
    "            \"NumCode\": \"933\",\n",
    "            \"CharCode\": \"BYN\",\n",
    "            \"Nominal\": 1,\n",
    "            \"Name\": \"Белорусский рубль\",\n",
    "            \"Value\": 29.1248,\n",
    "            \"Previous\": 28.9504\n",
    "        },\n",
    "        \"BGN\": {\n",
    "            \"ID\": \"R01100\",\n",
    "            \"NumCode\": \"975\",\n",
    "            \"CharCode\": \"BGN\",\n",
    "            \"Nominal\": 1,\n",
    "            \"Name\": \"Болгарский лев\",\n",
    "            \"Value\": 40.1895,\n",
    "            \"Previous\": 39.8944\n",
    "        },\n",
    "        \"BRL\": {\n",
    "            \"ID\": \"R01115\",\n",
    "            \"NumCode\": \"986\",\n",
    "            \"CharCode\": \"BRL\",\n",
    "            \"Nominal\": 1,\n",
    "            \"Name\": \"Бразильский реал\",\n",
    "            \"Value\": 13.8966,\n",
    "            \"Previous\": 14.0034\n",
    "        },\n",
    "        \"HUF\": {\n",
    "            \"ID\": \"R01135\",\n",
    "            \"NumCode\": \"348\",\n",
    "            \"CharCode\": \"HUF\",\n",
    "            \"Nominal\": 100,\n",
    "            \"Name\": \"Венгерских форинтов\",\n",
    "            \"Value\": 22.8234,\n",
    "            \"Previous\": 22.6894\n",
    "        },\n",
    "        \"HKD\": {\n",
    "            \"ID\": \"R01200\",\n",
    "            \"NumCode\": \"344\",\n",
    "            \"CharCode\": \"HKD\",\n",
    "            \"Nominal\": 10,\n",
    "            \"Name\": \"Гонконгских долларов\",\n",
    "            \"Value\": 89.1826,\n",
    "            \"Previous\": 88.5375\n",
    "        },\n",
    "        \"DKK\": {\n",
    "            \"ID\": \"R01215\",\n",
    "            \"NumCode\": \"208\",\n",
    "            \"CharCode\": \"DKK\",\n",
    "            \"Nominal\": 1,\n",
    "            \"Name\": \"Датская крона\",\n",
    "            \"Value\": 10.5439,\n",
    "            \"Previous\": 10.4665\n",
    "        },\n",
    "        \"USD\": {\n",
    "            \"ID\": \"R01235\",\n",
    "            \"NumCode\": \"840\",\n",
    "            \"CharCode\": \"USD\",\n",
    "            \"Nominal\": 1,\n",
    "            \"Name\": \"Доллар США\",\n",
    "            \"Value\": 69.1219,\n",
    "            \"Previous\": 68.6183\n",
    "        },\n",
    "        \"EUR\": {\n",
    "            \"ID\": \"R01239\",\n",
    "            \"NumCode\": \"978\",\n",
    "            \"CharCode\": \"EUR\",\n",
    "            \"Nominal\": 1,\n",
    "            \"Name\": \"Евро\",\n",
    "            \"Value\": 78.5225,\n",
    "            \"Previous\": 77.9229\n",
    "        },\n",
    "        \"INR\": {\n",
    "            \"ID\": \"R01270\",\n",
    "            \"NumCode\": \"356\",\n",
    "            \"CharCode\": \"INR\",\n",
    "            \"Nominal\": 100,\n",
    "            \"Name\": \"Индийских рупий\",\n",
    "            \"Value\": 91.2127,\n",
    "            \"Previous\": 90.771\n",
    "        },\n",
    "        \"KZT\": {\n",
    "            \"ID\": \"R01335\",\n",
    "            \"NumCode\": \"398\",\n",
    "            \"CharCode\": \"KZT\",\n",
    "            \"Nominal\": 100,\n",
    "            \"Name\": \"Казахстанских тенге\",\n",
    "            \"Value\": 17.2695,\n",
    "            \"Previous\": 17.1565\n",
    "        },\n",
    "        \"CAD\": {\n",
    "            \"ID\": \"R01350\",\n",
    "            \"NumCode\": \"124\",\n",
    "            \"CharCode\": \"CAD\",\n",
    "            \"Nominal\": 1,\n",
    "            \"Name\": \"Канадский доллар\",\n",
    "            \"Value\": 51.304,\n",
    "            \"Previous\": 51.2421\n",
    "        },\n",
    "        \"KGS\": {\n",
    "            \"ID\": \"R01370\",\n",
    "            \"NumCode\": \"417\",\n",
    "            \"CharCode\": \"KGS\",\n",
    "            \"Nominal\": 100,\n",
    "            \"Name\": \"Киргизских сомов\",\n",
    "            \"Value\": 92.953,\n",
    "            \"Previous\": 92.5657\n",
    "        },\n",
    "        \"CNY\": {\n",
    "            \"ID\": \"R01375\",\n",
    "            \"NumCode\": \"156\",\n",
    "            \"CharCode\": \"CNY\",\n",
    "            \"Nominal\": 10,\n",
    "            \"Name\": \"Китайских юаней\",\n",
    "            \"Value\": 97.7624,\n",
    "            \"Previous\": 97.1023\n",
    "        },\n",
    "        \"MDL\": {\n",
    "            \"ID\": \"R01500\",\n",
    "            \"NumCode\": \"498\",\n",
    "            \"CharCode\": \"MDL\",\n",
    "            \"Nominal\": 10,\n",
    "            \"Name\": \"Молдавских леев\",\n",
    "            \"Value\": 40.2574,\n",
    "            \"Previous\": 40.0107\n",
    "        },\n",
    "        \"NOK\": {\n",
    "            \"ID\": \"R01535\",\n",
    "            \"NumCode\": \"578\",\n",
    "            \"CharCode\": \"NOK\",\n",
    "            \"Nominal\": 10,\n",
    "            \"Name\": \"Норвежских крон\",\n",
    "            \"Value\": 73.6052,\n",
    "            \"Previous\": 74.2638\n",
    "        },\n",
    "        \"PLN\": {\n",
    "            \"ID\": \"R01565\",\n",
    "            \"NumCode\": \"985\",\n",
    "            \"CharCode\": \"PLN\",\n",
    "            \"Nominal\": 1,\n",
    "            \"Name\": \"Польский злотый\",\n",
    "            \"Value\": 17.5784,\n",
    "            \"Previous\": 17.5391\n",
    "        },\n",
    "        \"RON\": {\n",
    "            \"ID\": \"R01585F\",\n",
    "            \"NumCode\": \"946\",\n",
    "            \"CharCode\": \"RON\",\n",
    "            \"Nominal\": 1,\n",
    "            \"Name\": \"Румынский лей\",\n",
    "            \"Value\": 16.2537,\n",
    "            \"Previous\": 16.1409\n",
    "        },\n",
    "        \"XDR\": {\n",
    "            \"ID\": \"R01589\",\n",
    "            \"NumCode\": \"960\",\n",
    "            \"CharCode\": \"XDR\",\n",
    "            \"Nominal\": 1,\n",
    "            \"Name\": \"СДР (специальные права заимствования)\",\n",
    "            \"Value\": 95.8589,\n",
    "            \"Previous\": 94.7708\n",
    "        },\n",
    "        \"SGD\": {\n",
    "            \"ID\": \"R01625\",\n",
    "            \"NumCode\": \"702\",\n",
    "            \"CharCode\": \"SGD\",\n",
    "            \"Nominal\": 1,\n",
    "            \"Name\": \"Сингапурский доллар\",\n",
    "            \"Value\": 49.8032,\n",
    "            \"Previous\": 49.5439\n",
    "        },\n",
    "        \"TJS\": {\n",
    "            \"ID\": \"R01670\",\n",
    "            \"NumCode\": \"972\",\n",
    "            \"CharCode\": \"TJS\",\n",
    "            \"Nominal\": 10,\n",
    "            \"Name\": \"Таджикских сомони\",\n",
    "            \"Value\": 67.1902,\n",
    "            \"Previous\": 66.6521\n",
    "        },\n",
    "        \"TRY\": {\n",
    "            \"ID\": \"R01700J\",\n",
    "            \"NumCode\": \"949\",\n",
    "            \"CharCode\": \"TRY\",\n",
    "            \"Nominal\": 1,\n",
    "            \"Name\": \"Турецкая лира\",\n",
    "            \"Value\": 10.1981,\n",
    "            \"Previous\": 10.1083\n",
    "        },\n",
    "        \"TMT\": {\n",
    "            \"ID\": \"R01710A\",\n",
    "            \"NumCode\": \"934\",\n",
    "            \"CharCode\": \"TMT\",\n",
    "            \"Nominal\": 1,\n",
    "            \"Name\": \"Новый туркменский манат\",\n",
    "            \"Value\": 19.7774,\n",
    "            \"Previous\": 19.6333\n",
    "        },\n",
    "        \"UZS\": {\n",
    "            \"ID\": \"R01717\",\n",
    "            \"NumCode\": \"860\",\n",
    "            \"CharCode\": \"UZS\",\n",
    "            \"Nominal\": 10000,\n",
    "            \"Name\": \"Узбекских сумов\",\n",
    "            \"Value\": 68.087,\n",
    "            \"Previous\": 67.6242\n",
    "        },\n",
    "        \"UAH\": {\n",
    "            \"ID\": \"R01720\",\n",
    "            \"NumCode\": \"980\",\n",
    "            \"CharCode\": \"UAH\",\n",
    "            \"Nominal\": 10,\n",
    "            \"Name\": \"Украинских гривен\",\n",
    "            \"Value\": 25.9902,\n",
    "            \"Previous\": 25.7568\n",
    "        },\n",
    "        \"CZK\": {\n",
    "            \"ID\": \"R01760\",\n",
    "            \"NumCode\": \"203\",\n",
    "            \"CharCode\": \"CZK\",\n",
    "            \"Nominal\": 10,\n",
    "            \"Name\": \"Чешских крон\",\n",
    "            \"Value\": 29.4926,\n",
    "            \"Previous\": 29.3435\n",
    "        },\n",
    "        \"SEK\": {\n",
    "            \"ID\": \"R01770\",\n",
    "            \"NumCode\": \"752\",\n",
    "            \"CharCode\": \"SEK\",\n",
    "            \"Nominal\": 10,\n",
    "            \"Name\": \"Шведских крон\",\n",
    "            \"Value\": 75.0126,\n",
    "            \"Previous\": 74.768\n",
    "        },\n",
    "        \"CHF\": {\n",
    "            \"ID\": \"R01775\",\n",
    "            \"NumCode\": \"756\",\n",
    "            \"CharCode\": \"CHF\",\n",
    "            \"Nominal\": 1,\n",
    "            \"Name\": \"Швейцарский франк\",\n",
    "            \"Value\": 73.4168,\n",
    "            \"Previous\": 72.5045\n",
    "        },\n",
    "        \"ZAR\": {\n",
    "            \"ID\": \"R01810\",\n",
    "            \"NumCode\": \"710\",\n",
    "            \"CharCode\": \"ZAR\",\n",
    "            \"Nominal\": 10,\n",
    "            \"Name\": \"Южноафриканских рэндов\",\n",
    "            \"Value\": 41.5831,\n",
    "            \"Previous\": 41.3817\n",
    "        },\n",
    "        \"KRW\": {\n",
    "            \"ID\": \"R01815\",\n",
    "            \"NumCode\": \"410\",\n",
    "            \"CharCode\": \"KRW\",\n",
    "            \"Nominal\": 1000,\n",
    "            \"Name\": \"Вон Республики Корея\",\n",
    "            \"Value\": 57.8615,\n",
    "            \"Previous\": 57.708\n",
    "        },\n",
    "        \"JPY\": {\n",
    "            \"ID\": \"R01820\",\n",
    "            \"NumCode\": \"392\",\n",
    "            \"CharCode\": \"JPY\",\n",
    "            \"Nominal\": 100,\n",
    "            \"Name\": \"Японских иен\",\n",
    "            \"Value\": 64.609,\n",
    "            \"Previous\": 63.9529\n",
    "        }\n",
    "}"
   ]
  },
  {
   "cell_type": "code",
   "execution_count": null,
   "metadata": {},
   "outputs": [],
   "source": [
    "valute_val = []\n",
    "for info in Valute.values():\n",
    "    valute_val.append(info[\"Value\"] / info[\"Nominal\"])\n",
    "max_el = max(valute_val)\n",
    "print(max_el)\n",
    "\n",
    "for info in Valute.values():\n",
    "    if max_el == info['Value']:\n",
    "        print(info['Name'])"
   ]
  },
  {
   "cell_type": "code",
   "execution_count": null,
   "metadata": {},
   "outputs": [],
   "source": []
  },
  {
   "cell_type": "code",
   "execution_count": null,
   "metadata": {},
   "outputs": [],
   "source": []
  },
  {
   "cell_type": "code",
   "execution_count": null,
   "metadata": {},
   "outputs": [],
   "source": []
  },
  {
   "cell_type": "code",
   "execution_count": null,
   "metadata": {},
   "outputs": [],
   "source": []
  },
  {
   "cell_type": "code",
   "execution_count": null,
   "metadata": {},
   "outputs": [],
   "source": [
    "d = Rate()"
   ]
  },
  {
   "cell_type": "code",
   "execution_count": null,
   "metadata": {},
   "outputs": [],
   "source": [
    "d.max_valute()"
   ]
  },
  {
   "cell_type": "code",
   "execution_count": null,
   "metadata": {},
   "outputs": [],
   "source": [
    "r = Rate(format_='full')"
   ]
  },
  {
   "cell_type": "code",
   "execution_count": null,
   "metadata": {},
   "outputs": [],
   "source": [
    "r.usd()"
   ]
  },
  {
   "cell_type": "code",
   "execution_count": null,
   "metadata": {},
   "outputs": [],
   "source": [
    "r = Rate(format_='value', diff = True)"
   ]
  },
  {
   "cell_type": "code",
   "execution_count": null,
   "metadata": {},
   "outputs": [],
   "source": [
    "r.usd()"
   ]
  },
  {
   "cell_type": "code",
   "execution_count": null,
   "metadata": {},
   "outputs": [],
   "source": [
    "r = Rate()"
   ]
  },
  {
   "cell_type": "code",
   "execution_count": null,
   "metadata": {},
   "outputs": [],
   "source": [
    "r.usd()"
   ]
  },
  {
   "cell_type": "code",
   "execution_count": null,
   "metadata": {},
   "outputs": [],
   "source": [
    "r.usd = 1"
   ]
  },
  {
   "cell_type": "code",
   "execution_count": null,
   "metadata": {},
   "outputs": [],
   "source": [
    "r.usd"
   ]
  },
  {
   "cell_type": "code",
   "execution_count": null,
   "metadata": {},
   "outputs": [],
   "source": [
    "r.exchange_rates()"
   ]
  },
  {
   "cell_type": "markdown",
   "metadata": {},
   "source": [
    "Документация необходима почти всем методам"
   ]
  },
  {
   "cell_type": "code",
   "execution_count": null,
   "metadata": {},
   "outputs": [],
   "source": [
    "?r.exchange_rates"
   ]
  },
  {
   "cell_type": "markdown",
   "metadata": {},
   "source": [
    "# Наследование"
   ]
  },
  {
   "cell_type": "markdown",
   "metadata": {},
   "source": [
    "Разработчикам финансового департамента помимо курса надо работать с кодами валют. Как сохранить сохранить разработку класса Rate у нас, а полезные функции передать финансистам?"
   ]
  },
  {
   "cell_type": "code",
   "execution_count": null,
   "metadata": {},
   "outputs": [],
   "source": [
    "class CurrencyCodes(Rate):\n",
    "    def __init__(self):\n",
    "        super().__init__(format_='full')"
   ]
  },
  {
   "cell_type": "markdown",
   "metadata": {},
   "source": [
    "Теперь классу CurrencyCodes доступны все методы класса Rate. Можем продолжать разработку в нужном направлении."
   ]
  },
  {
   "cell_type": "code",
   "execution_count": null,
   "metadata": {},
   "outputs": [],
   "source": [
    "cc = CurrencyCodes()"
   ]
  },
  {
   "cell_type": "code",
   "execution_count": null,
   "metadata": {},
   "outputs": [],
   "source": [
    "CurrencyCodes().usd()"
   ]
  },
  {
   "cell_type": "markdown",
   "metadata": {},
   "source": [
    "Допишем в класс что-нибудь свое новенькое"
   ]
  },
  {
   "cell_type": "code",
   "execution_count": null,
   "metadata": {},
   "outputs": [],
   "source": [
    "class CurrencyCodes(Rate):\n",
    "    def __init__(self):\n",
    "        super().__init__(format_='full')\n",
    "    \n",
    "    def currency_id(self, currency):\n",
    "        \"\"\"Получение идентификатора валюты\"\"\"\n",
    "        return self.make_format(currency)['ID']"
   ]
  },
  {
   "cell_type": "code",
   "execution_count": null,
   "metadata": {},
   "outputs": [],
   "source": [
    "currency = CurrencyCodes()"
   ]
  },
  {
   "cell_type": "code",
   "execution_count": null,
   "metadata": {},
   "outputs": [],
   "source": [
    "currency.currency_id('USD')"
   ]
  },
  {
   "cell_type": "markdown",
   "metadata": {},
   "source": [
    "# Система повышения сотрудников\n",
    "Пригодится для домашнего задания"
   ]
  },
  {
   "cell_type": "code",
   "execution_count": null,
   "metadata": {},
   "outputs": [],
   "source": [
    "class Employee:\n",
    "    def __init__(self, name, seniority):\n",
    "        self.name = name\n",
    "        self.seniority = seniority\n",
    "        \n",
    "        self.grade = 1\n",
    "    \n",
    "    def grade_up(self):\n",
    "        \"\"\"Повышает уровень сотрудника\"\"\"\n",
    "        self.grade += 1\n",
    "    \n",
    "    def publish_grade(self):\n",
    "        \"\"\"Публикация результатов аккредитации сотрудников\"\"\"\n",
    "        print(self.name, self.grade)\n",
    "    \n",
    "    def check_if_it_is_time_for_upgrade(self):\n",
    "        pass"
   ]
  },
  {
   "cell_type": "code",
   "execution_count": null,
   "metadata": {},
   "outputs": [],
   "source": [
    "class Developer(Employee):\n",
    "    def __init__(self, name, seniority):\n",
    "        super().__init__(name, seniority)\n",
    "    \n",
    "    def check_if_it_is_time_for_upgrade(self):\n",
    "        # для каждой аккредитации увеличиваем счетчик на 1\n",
    "        # пока считаем, что все разработчики проходят аккредитацию\n",
    "        self.seniority += 1\n",
    "        \n",
    "        # условие повышения сотрудника из презентации\n",
    "        if self.seniority % 5 == 0:\n",
    "            self.grade_up()\n",
    "        \n",
    "        # публикация результатов\n",
    "        return self.publish_grade()"
   ]
  },
  {
   "cell_type": "code",
   "execution_count": null,
   "metadata": {},
   "outputs": [],
   "source": [
    "# проверяем как работает система повышения сотрудников на примере отдела разработки\n",
    "\n",
    "# разработчик Александр только что пришел в компанию\n",
    "alex = Developer('Александр', 0)"
   ]
  },
  {
   "cell_type": "code",
   "execution_count": null,
   "metadata": {},
   "outputs": [],
   "source": [
    "alex.seniority"
   ]
  },
  {
   "cell_type": "code",
   "execution_count": null,
   "metadata": {},
   "outputs": [],
   "source": [
    "for i in range(20):\n",
    "    alex.check_if_it_is_time_for_upgrade()"
   ]
  },
  {
   "cell_type": "markdown",
   "metadata": {},
   "source": [
    "# Домашнее задание задача 3\n",
    "\n",
    "Напишите класс Designer, который учитывает количество международных премий для дизайнеров (из презентации: \"Повышение на 1 грейд за каждые 7 баллов. Получение международной премии – это +2 балла\"). Считайте, что при выходе на работу сотрудник уже имеет две премии и их количество не меняется со стажем (конечно если хотите это можно вручную менять). Выполните проверку для 20 аккредитаций дизайнера Елены.\n",
    "\n",
    "Для проверки используйте код:"
   ]
  },
  {
   "cell_type": "code",
   "execution_count": null,
   "metadata": {},
   "outputs": [],
   "source": [
    "class Designer(Employee):\n",
    "    def __init__(self, name, seniority, awards):\n",
    "        super().__init__(name, seniority)\n",
    "        self.awards = awards\n",
    "    \n",
    "    def check_if_it_is_time_for_upgrade(self):\n",
    "        # для каждой аккредитации увеличиваем счетчик на 1\n",
    "        # пока считаем, что все разработчики проходят аккредитацию\n",
    "              \n",
    "        grade1 = 0\n",
    "        # условие повышения сотрудника из презентации\n",
    "        #if (self.seniority + self.awards * 2) % 7 == 0:\n",
    "        self.seniority += 1\n",
    "        grade2 = self.seniority // 7\n",
    "        \n",
    "        if grade2 != grade1:\n",
    "            \n",
    "            self.grade_up()\n",
    "            \n",
    "            grade1 = grade2\n",
    "        \n",
    "        # публикация результатов\n",
    "        return self.publish_grade()"
   ]
  },
  {
   "cell_type": "code",
   "execution_count": null,
   "metadata": {},
   "outputs": [],
   "source": [
    "alena = Designer('Елена', seniority=0, awards=2)"
   ]
  },
  {
   "cell_type": "code",
   "execution_count": null,
   "metadata": {},
   "outputs": [],
   "source": [
    "for i in range(20):\n",
    "    alena.check_if_it_is_time_for_upgrade()"
   ]
  },
  {
   "cell_type": "code",
   "execution_count": 7,
   "metadata": {},
   "outputs": [
    {
     "name": "stdout",
     "output_type": "stream",
     "text": [
      "2\n",
      "2\n",
      "2\n",
      "2\n",
      "2\n",
      "2\n",
      "3\n",
      "3\n",
      "3\n",
      "3\n",
      "3\n",
      "3\n",
      "3\n",
      "4\n",
      "4\n",
      "4\n",
      "4\n",
      "4\n",
      "4\n",
      "4\n",
      "5\n"
     ]
    }
   ],
   "source": [
    "grade1 = 0\n",
    "seniority = 0\n",
    "x = 0\n",
    "\n",
    "while x <= 20:\n",
    "    grade2 = (seniority + 4*2) // 7 + 1\n",
    "    seniority += 1\n",
    "    x += 1\n",
    "    print(grade2)\n",
    "    \n",
    "    #grade1 != grade2:\n",
    "    #print('новый грейд')           \n",
    "    #grade1 = grade2"
   ]
  },
  {
   "cell_type": "code",
   "execution_count": null,
   "metadata": {},
   "outputs": [],
   "source": [
    "class Designer(Employee):\n",
    "    def __init__(self, name, seniority, awards):\n",
    "        super().__init__(name, seniority)\n",
    "        self.awards = awards\n",
    "    \n",
    "    def check_if_it_is_time_for_upgrade(self):\n",
    "        # для каждой аккредитации увеличиваем счетчик на 1\n",
    "        # пока считаем, что все разработчики проходят аккредитацию\n",
    "        self.seniority += 1\n",
    "        \n",
    "        # условие повышения сотрудника из презентации\n",
    "        if (self.seniority + self.awards * 2) % 7 == 0:\n",
    "            self.grade_up()\n",
    "        \n",
    "        # публикация результатов\n",
    "        return self.publish_grade()"
   ]
  },
  {
   "cell_type": "code",
   "execution_count": null,
   "metadata": {},
   "outputs": [],
   "source": [
    "elena = Designer('Елена', seniority=0, awards=2)"
   ]
  },
  {
   "cell_type": "code",
   "execution_count": null,
   "metadata": {},
   "outputs": [],
   "source": [
    "for i in range(20):\n",
    "    elena.check_if_it_is_time_for_upgrade()"
   ]
  },
  {
   "cell_type": "markdown",
   "metadata": {},
   "source": [
    "# Импорт классов и функций"
   ]
  },
  {
   "cell_type": "code",
   "execution_count": null,
   "metadata": {},
   "outputs": [],
   "source": [
    "from libs.exchange import my_sum"
   ]
  },
  {
   "cell_type": "code",
   "execution_count": null,
   "metadata": {},
   "outputs": [],
   "source": [
    "my_sum(1, 2)"
   ]
  },
  {
   "cell_type": "code",
   "execution_count": null,
   "metadata": {},
   "outputs": [],
   "source": [
    "from libs.exchange import Rate"
   ]
  },
  {
   "cell_type": "code",
   "execution_count": null,
   "metadata": {},
   "outputs": [],
   "source": [
    "Rate().AZN()"
   ]
  },
  {
   "cell_type": "code",
   "execution_count": null,
   "metadata": {},
   "outputs": [],
   "source": [
    "# такой способ импорта крайне не рекомендуется\n",
    "from libs.exchange import *"
   ]
  },
  {
   "cell_type": "markdown",
   "metadata": {},
   "source": [
    "Если библиотека лежит в произвольной папке"
   ]
  },
  {
   "cell_type": "code",
   "execution_count": null,
   "metadata": {},
   "outputs": [],
   "source": [
    "import sys\n",
    "sys.path.append('адрес_папки_с_файлами')"
   ]
  },
  {
   "cell_type": "code",
   "execution_count": null,
   "metadata": {},
   "outputs": [],
   "source": [
    "import sys\n",
    "sys.path"
   ]
  },
  {
   "cell_type": "code",
   "execution_count": null,
   "metadata": {},
   "outputs": [],
   "source": [
    "# пример\n",
    "\n",
    "import sys\n",
    "sys.path.append('/Users/kbashevoy/Desktop/Нетология/Занятия/Занятие 8/libs')"
   ]
  },
  {
   "cell_type": "code",
   "execution_count": null,
   "metadata": {},
   "outputs": [],
   "source": [
    "import requsts"
   ]
  },
  {
   "cell_type": "code",
   "execution_count": null,
   "metadata": {},
   "outputs": [],
   "source": [
    "from requests import my_sum"
   ]
  },
  {
   "cell_type": "code",
   "execution_count": null,
   "metadata": {},
   "outputs": [],
   "source": [
    "my_sum(3, 3)"
   ]
  }
 ],
 "metadata": {
  "kernelspec": {
   "display_name": "Python 3",
   "language": "python",
   "name": "python3"
  },
  "language_info": {
   "codemirror_mode": {
    "name": "ipython",
    "version": 3
   },
   "file_extension": ".py",
   "mimetype": "text/x-python",
   "name": "python",
   "nbconvert_exporter": "python",
   "pygments_lexer": "ipython3",
   "version": "3.7.6"
  }
 },
 "nbformat": 4,
 "nbformat_minor": 2
}
